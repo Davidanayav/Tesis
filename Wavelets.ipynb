{
 "cells": [
  {
   "cell_type": "code",
   "execution_count": 1,
   "metadata": {},
   "outputs": [
    {
     "name": "stdout",
     "output_type": "stream",
     "text": [
      "Using matplotlib backend: Qt5Agg\n",
      "Populating the interactive namespace from numpy and matplotlib\n"
     ]
    }
   ],
   "source": [
    "#Guardado de los coeficientes como .npy\n",
    "% pylab\n",
    "import pywt\n",
    "import numpy as np\n",
    "import os\n",
    "import soundfile as sf\n",
    "import sounddevice as sd\n",
    "\n",
    "location = './Audios/' \n",
    "dest = './Wavelets/'\n",
    "audios = os.listdir(location)\n",
    "for f in audios:\n",
    "    name=location+f            \n",
    "    data, samplerate = sf.read(name)\n",
    "    coeffs = pywt.wavedec(data, 'db1')\n",
    "    np.save((dest+f), coeffs)\n",
    "    #print (f,coeffs)\n"
   ]
  },
  {
   "cell_type": "code",
   "execution_count": 3,
   "metadata": {},
   "outputs": [],
   "source": [
    "#Resíntesis\n",
    "l = './Wavelets/'\n",
    "wlts = os.listdir(l)\n",
    "for f in wlts:\n",
    "    name=l+f \n",
    "    coef=list(np.load(name))\n",
    "    audios = pywt.waverec(coef, 'db1')\n",
    "    sd.play(audios, 44100)\n",
    "    sd.wait()\n",
    "    #print (f, coef)"
   ]
  },
  {
   "cell_type": "code",
   "execution_count": 7,
   "metadata": {},
   "outputs": [],
   "source": [
    "#Modificación de los coeficientes\n",
    "data1, samplerate = sf.read('./Audios/110_Gsm_Tenor_SP05.wav' )\n",
    "coef1 = pywt.wavedec(data1,'db1')\n",
    "for i,value in enumerate(coef1):\n",
    "    a = coef1[i]\n",
    "    dev = random.random()\n",
    "    a[a==a] *= dev\n",
    "    \n",
    "out = pywt.waverec(coef1, 'db1')\n",
    "sd.play(out, 44100)\n",
    "sd.wait()"
   ]
  },
  {
   "cell_type": "code",
   "execution_count": 6,
   "metadata": {},
   "outputs": [],
   "source": [
    "#Cambio de los valores de cada nivel por 0's\n",
    "data1, samplerate = sf.read('./Audios/110_Gsm_Tenor_SP05.wav' )\n",
    "coef2 = pywt.wavedec(data1,'db1')\n",
    "for i,value in enumerate(coef2):\n",
    "    a = coef2[i]\n",
    "    a[a==a] = 0    \n",
    "    out = pywt.waverec(coef2, 'db1')\n",
    "    sd.play(out, 44100)\n",
    "    sd.wait()"
   ]
  },
  {
   "cell_type": "code",
   "execution_count": 9,
   "metadata": {},
   "outputs": [],
   "source": [
    "#Conversión de los coeficientes(array de arrays) a array simple para graficar\n",
    "arr, coeff_slices = pywt.coeffs_to_array(coef1)\n",
    "plt.plot(arr)\n",
    "plt.show()"
   ]
  },
  {
   "cell_type": "code",
   "execution_count": 12,
   "metadata": {},
   "outputs": [],
   "source": [
    "sd.play(arr, 4100)"
   ]
  }
 ],
 "metadata": {
  "kernelspec": {
   "display_name": "Python 2",
   "language": "python",
   "name": "python2"
  },
  "language_info": {
   "codemirror_mode": {
    "name": "ipython",
    "version": 2
   },
   "file_extension": ".py",
   "mimetype": "text/x-python",
   "name": "python",
   "nbconvert_exporter": "python",
   "pygments_lexer": "ipython2",
   "version": "2.7.14"
  }
 },
 "nbformat": 4,
 "nbformat_minor": 2
}
