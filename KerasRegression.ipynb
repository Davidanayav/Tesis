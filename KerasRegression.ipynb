{
 "cells": [
  {
   "cell_type": "code",
   "execution_count": 1,
   "metadata": {},
   "outputs": [
    {
     "name": "stderr",
     "output_type": "stream",
     "text": [
      "/usr/local/lib/python2.7/dist-packages/h5py/__init__.py:36: FutureWarning: Conversion of the second argument of issubdtype from `float` to `np.floating` is deprecated. In future, it will be treated as `np.float64 == np.dtype(float).type`.\n",
      "  from ._conv import register_converters as _register_converters\n",
      "Using TensorFlow backend.\n"
     ]
    }
   ],
   "source": [
    "%matplotlib inline\n",
    "import os\n",
    "os.environ['KERAS_BACKEND'] = 'tensorflow'\n",
    "os.environ['MKL_NUM_THREADS'] = '32'\n",
    "os.environ['GOTO_NUM_THREADS'] = '32'\n",
    "os.environ['OMP_NUM_THREADS'] = '32'\n",
    "os.environ['openmp'] = 'True'\n",
    "\n",
    "\n",
    "import matplotlib.pyplot as plt\n",
    "import matplotlib.colors as colors\n",
    "import librosa\n",
    "import numpy as np\n",
    "import glob\n",
    "\n",
    "import keras\n",
    "from keras.optimizers import SGD\n",
    "from keras.models import Sequential\n",
    "from keras.layers import Dense, Activation"
   ]
  },
  {
   "cell_type": "code",
   "execution_count": null,
   "metadata": {
    "collapsed": true
   },
   "outputs": [],
   "source": [
    "descriptors_folder = 'Descriptores-cuts/'\n",
    "npys = []\n",
    "for file in glob.glob(descriptors_folder+'*.npy'):\n",
    "    if not '_st' in file:\n",
    "        x = np.load(file)\n",
    "        npys.append(x)\n",
    "X = np.hstack(npys).T\n",
    "sounds = []\n",
    "for filename in glob.glob('Cuts/*.wav'):\n",
    "    x,fs = librosa.load(filename, sr = None)\n",
    "    sounds.append(x[:22016])\n",
    "    \n",
    "S = np.vstack(sounds)\n",
    "F = np.fft.fft(S)\n",
    "F = F[:int(S.shape[1]/2)]"
   ]
  },
  {
   "cell_type": "code",
   "execution_count": null,
   "metadata": {},
   "outputs": [
    {
     "name": "stderr",
     "output_type": "stream",
     "text": [
      "/usr/local/lib/python2.7/dist-packages/keras/models.py:981: UserWarning: The `nb_epoch` argument in `fit` has been renamed `epochs`.\n",
      "  warnings.warn('The `nb_epoch` argument in `fit` '\n"
     ]
    }
   ],
   "source": [
    "model = Sequential()\n",
    "model.add(Dense(F.shape[1], input_dim=X.shape[1]),)\n",
    "model.add(Activation('relu'))\n",
    "\n",
    "sgd = SGD(lr=0.05, clipnorm=1.)\n",
    "\n",
    "model.compile(loss='mean_squared_error', optimizer=sgd)\n",
    "\n",
    "history = model.fit(X, abs(F), batch_size=4, epochs=5000, verbose=0)"
   ]
  },
  {
   "cell_type": "code",
   "execution_count": null,
   "metadata": {},
   "outputs": [],
   "source": [
    "plt.plot(history.history['loss'])"
   ]
  },
  {
   "cell_type": "code",
   "execution_count": null,
   "metadata": {
    "collapsed": true
   },
   "outputs": [],
   "source": []
  },
  {
   "cell_type": "code",
   "execution_count": null,
   "metadata": {
    "collapsed": true
   },
   "outputs": [],
   "source": []
  }
 ],
 "metadata": {
  "kernelspec": {
   "display_name": "Python 2",
   "language": "python",
   "name": "python2"
  },
  "language_info": {
   "codemirror_mode": {
    "name": "ipython",
    "version": 2
   },
   "file_extension": ".py",
   "mimetype": "text/x-python",
   "name": "python",
   "nbconvert_exporter": "python",
   "pygments_lexer": "ipython2",
   "version": "2.7.12"
  }
 },
 "nbformat": 4,
 "nbformat_minor": 2
}
